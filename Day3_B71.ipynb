{
 "cells": [
  {
   "cell_type": "code",
   "execution_count": null,
   "id": "173ccfc2",
   "metadata": {},
   "outputs": [],
   "source": [
    "continuation with strings :"
   ]
  },
  {
   "cell_type": "code",
   "execution_count": null,
   "id": "6bf210d3",
   "metadata": {},
   "outputs": [],
   "source": [
    "full_name = 'ravi chandra'"
   ]
  },
  {
   "cell_type": "code",
   "execution_count": null,
   "id": "c45a72c1",
   "metadata": {},
   "outputs": [],
   "source": [
    "print(full_name)"
   ]
  },
  {
   "cell_type": "code",
   "execution_count": null,
   "id": "c4d88a8e",
   "metadata": {},
   "outputs": [],
   "source": [
    "print(full_name.title())"
   ]
  },
  {
   "cell_type": "code",
   "execution_count": null,
   "id": "f874b6c8",
   "metadata": {},
   "outputs": [],
   "source": [
    "# req : I want to get the full name in capital letters."
   ]
  },
  {
   "cell_type": "code",
   "execution_count": null,
   "id": "952d20ba",
   "metadata": {},
   "outputs": [],
   "source": [
    "print(full_name.upper())"
   ]
  },
  {
   "cell_type": "code",
   "execution_count": null,
   "id": "8444f975",
   "metadata": {},
   "outputs": [],
   "source": []
  },
  {
   "cell_type": "code",
   "execution_count": null,
   "id": "adbc5333",
   "metadata": {},
   "outputs": [],
   "source": [
    "# req : I want to get the full name in complete small case letters.....?"
   ]
  },
  {
   "cell_type": "code",
   "execution_count": null,
   "id": "a6fb48db",
   "metadata": {},
   "outputs": [],
   "source": [
    "print(full_name.lower())"
   ]
  },
  {
   "cell_type": "code",
   "execution_count": null,
   "id": "3f96c669",
   "metadata": {},
   "outputs": [],
   "source": []
  },
  {
   "cell_type": "code",
   "execution_count": null,
   "id": "ffa7ddd6",
   "metadata": {},
   "outputs": [],
   "source": [
    "introduction to f strings :"
   ]
  },
  {
   "cell_type": "code",
   "execution_count": null,
   "id": "219e79d5",
   "metadata": {},
   "outputs": [],
   "source": []
  },
  {
   "cell_type": "code",
   "execution_count": null,
   "id": "958b6f68",
   "metadata": {},
   "outputs": [],
   "source": [
    "# geenral syntax of f strings :"
   ]
  },
  {
   "cell_type": "code",
   "execution_count": null,
   "id": "4df29527",
   "metadata": {},
   "outputs": [],
   "source": [
    "print(f\" customer words {placeholder - 1} {placeholder - 2}.......{placeholder.....n}\")"
   ]
  },
  {
   "cell_type": "code",
   "execution_count": null,
   "id": "2e045cba",
   "metadata": {},
   "outputs": [],
   "source": []
  },
  {
   "cell_type": "code",
   "execution_count": 28,
   "id": "86afffb9",
   "metadata": {},
   "outputs": [],
   "source": [
    "first_name = 'varun'\n",
    "last_name = 'kumar'"
   ]
  },
  {
   "cell_type": "code",
   "execution_count": 13,
   "id": "e75cae7f",
   "metadata": {},
   "outputs": [],
   "source": [
    "# req : I want to get the  full name.....?"
   ]
  },
  {
   "cell_type": "code",
   "execution_count": 29,
   "id": "2c2c6357",
   "metadata": {},
   "outputs": [
    {
     "name": "stdout",
     "output_type": "stream",
     "text": [
      "varun kumar\n"
     ]
    }
   ],
   "source": [
    "print (f\"{first_name} {last_name}\")"
   ]
  },
  {
   "cell_type": "code",
   "execution_count": 34,
   "id": "f1a01e36",
   "metadata": {},
   "outputs": [
    {
     "name": "stdout",
     "output_type": "stream",
     "text": [
      "varun kumar\n"
     ]
    }
   ],
   "source": [
    "full_name = f\"{first_name} {last_name}\"\n",
    "\n",
    "print(full_name)"
   ]
  },
  {
   "cell_type": "code",
   "execution_count": 33,
   "id": "5557832a",
   "metadata": {},
   "outputs": [
    {
     "name": "stdout",
     "output_type": "stream",
     "text": [
      "Varun Kumar\n"
     ]
    }
   ],
   "source": [
    "print(full_name.title())"
   ]
  },
  {
   "cell_type": "code",
   "execution_count": null,
   "id": "a7e35654",
   "metadata": {},
   "outputs": [],
   "source": [
    "# req : to appreciate varun"
   ]
  },
  {
   "cell_type": "code",
   "execution_count": 35,
   "id": "dd927036",
   "metadata": {},
   "outputs": [
    {
     "name": "stdout",
     "output_type": "stream",
     "text": [
      "keep up the good work,Varun Kumar\n"
     ]
    }
   ],
   "source": [
    "print(f\"keep up the good work,{full_name.title()}\")"
   ]
  },
  {
   "cell_type": "code",
   "execution_count": null,
   "id": "b9833708",
   "metadata": {},
   "outputs": [],
   "source": [
    "Adding whitespaces to strings :"
   ]
  },
  {
   "cell_type": "code",
   "execution_count": 36,
   "id": "31f66230",
   "metadata": {},
   "outputs": [
    {
     "name": "stdout",
     "output_type": "stream",
     "text": [
      "favourite_languages:pythonjavac++cobalpascal\n"
     ]
    }
   ],
   "source": [
    "print(\"favourite_languages:pythonjavac++cobalpascal\")"
   ]
  },
  {
   "cell_type": "code",
   "execution_count": 37,
   "id": "c59f4407",
   "metadata": {},
   "outputs": [
    {
     "name": "stdout",
     "output_type": "stream",
     "text": [
      "favourite_languages:\n",
      "python\n",
      "java\n",
      "c++\n",
      "cobal\n",
      "pascal\n"
     ]
    }
   ],
   "source": [
    "print(\"favourite_languages:\\npython\\njava\\nc++\\ncobal\\npascal\")  # \\n---> new line delimeter"
   ]
  },
  {
   "cell_type": "code",
   "execution_count": 38,
   "id": "7ab002c4",
   "metadata": {},
   "outputs": [
    {
     "name": "stdout",
     "output_type": "stream",
     "text": [
      "favourite_languages:\n",
      "\tpython\n",
      "\tjava\n",
      "\tc++\n",
      "\tcobal\n",
      "\tpascal\n"
     ]
    }
   ],
   "source": [
    "print(\"favourite_languages:\\n\\tpython\\n\\tjava\\n\\tc++\\n\\tcobal\\n\\tpascal\")  # \\n---> tab delimeter"
   ]
  },
  {
   "cell_type": "code",
   "execution_count": 42,
   "id": "c0e16f53",
   "metadata": {},
   "outputs": [
    {
     "name": "stdout",
     "output_type": "stream",
     "text": [
      "python\n"
     ]
    }
   ],
   "source": [
    "name = 'python'\n",
    "print(name)"
   ]
  },
  {
   "cell_type": "code",
   "execution_count": 41,
   "id": "ae5165ff",
   "metadata": {},
   "outputs": [
    {
     "name": "stdout",
     "output_type": "stream",
     "text": [
      " python\n"
     ]
    }
   ],
   "source": [
    "name2 = ' python'\n",
    "print(name2)"
   ]
  },
  {
   "cell_type": "code",
   "execution_count": 43,
   "id": "a07a3a27",
   "metadata": {},
   "outputs": [
    {
     "name": "stdout",
     "output_type": "stream",
     "text": [
      "python \n"
     ]
    }
   ],
   "source": [
    "name3 = 'python '\n",
    "print(name3)"
   ]
  },
  {
   "cell_type": "code",
   "execution_count": 44,
   "id": "b6ba9681",
   "metadata": {},
   "outputs": [
    {
     "data": {
      "text/plain": [
       "'python'"
      ]
     },
     "execution_count": 44,
     "metadata": {},
     "output_type": "execute_result"
    }
   ],
   "source": [
    "name2.lstrip() # left strip====> only targets on the left..."
   ]
  },
  {
   "cell_type": "code",
   "execution_count": 46,
   "id": "32cf1a02",
   "metadata": {},
   "outputs": [
    {
     "data": {
      "text/plain": [
       "'python'"
      ]
     },
     "execution_count": 46,
     "metadata": {},
     "output_type": "execute_result"
    }
   ],
   "source": [
    "name3.rstrip() # left strip====> only targets on the right..."
   ]
  },
  {
   "cell_type": "code",
   "execution_count": 47,
   "id": "52d96f18",
   "metadata": {},
   "outputs": [
    {
     "name": "stdout",
     "output_type": "stream",
     "text": [
      " python \n"
     ]
    }
   ],
   "source": [
    "name4 = ' python '\n",
    "print(name4)"
   ]
  },
  {
   "cell_type": "code",
   "execution_count": 48,
   "id": "12da7505",
   "metadata": {},
   "outputs": [
    {
     "data": {
      "text/plain": [
       "'python'"
      ]
     },
     "execution_count": 48,
     "metadata": {},
     "output_type": "execute_result"
    }
   ],
   "source": [
    "name4.strip() #search operation\n"
   ]
  },
  {
   "cell_type": "code",
   "execution_count": null,
   "id": "b9005da5",
   "metadata": {},
   "outputs": [],
   "source": []
  }
 ],
 "metadata": {
  "kernelspec": {
   "display_name": "Python 3 (ipykernel)",
   "language": "python",
   "name": "python3"
  },
  "language_info": {
   "codemirror_mode": {
    "name": "ipython",
    "version": 3
   },
   "file_extension": ".py",
   "mimetype": "text/x-python",
   "name": "python",
   "nbconvert_exporter": "python",
   "pygments_lexer": "ipython3",
   "version": "3.9.7"
  }
 },
 "nbformat": 4,
 "nbformat_minor": 5
}
