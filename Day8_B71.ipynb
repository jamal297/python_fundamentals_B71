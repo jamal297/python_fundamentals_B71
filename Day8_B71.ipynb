{
 "cells": [
  {
   "cell_type": "code",
   "execution_count": null,
   "id": "2566448f",
   "metadata": {},
   "outputs": [],
   "source": []
  },
  {
   "cell_type": "code",
   "execution_count": null,
   "id": "d2a0d86d",
   "metadata": {},
   "outputs": [],
   "source": []
  },
  {
   "cell_type": "code",
   "execution_count": 2,
   "id": "b9bf2212",
   "metadata": {},
   "outputs": [
    {
     "ename": "SyntaxError",
     "evalue": "EOL while scanning string literal (Temp/ipykernel_1028/1953729575.py, line 3)",
     "output_type": "error",
     "traceback": [
      "\u001b[1;36m  File \u001b[1;32m\"C:\\Users\\JAMALA~1\\AppData\\Local\\Temp/ipykernel_1028/1953729575.py\"\u001b[1;36m, line \u001b[1;32m3\u001b[0m\n\u001b[1;33m    print(f'value:{y}\\n\")\u001b[0m\n\u001b[1;37m                         ^\u001b[0m\n\u001b[1;31mSyntaxError\u001b[0m\u001b[1;31m:\u001b[0m EOL while scanning string literal\n"
     ]
    }
   ],
   "source": []
  },
  {
   "cell_type": "code",
   "execution_count": null,
   "id": "8a49de85",
   "metadata": {},
   "outputs": [],
   "source": [
    "# I want to get only the keys...?"
   ]
  },
  {
   "cell_type": "code",
   "execution_count": 1,
   "id": "08595e40",
   "metadata": {},
   "outputs": [
    {
     "ename": "SyntaxError",
     "evalue": "EOL while scanning string literal (Temp/ipykernel_1028/1524241558.py, line 2)",
     "output_type": "error",
     "traceback": [
      "\u001b[1;36m  File \u001b[1;32m\"C:\\Users\\JAMALA~1\\AppData\\Local\\Temp/ipykernel_1028/1524241558.py\"\u001b[1;36m, line \u001b[1;32m2\u001b[0m\n\u001b[1;33m    print(f'key:{a}\")\u001b[0m\n\u001b[1;37m                     ^\u001b[0m\n\u001b[1;31mSyntaxError\u001b[0m\u001b[1;31m:\u001b[0m EOL while scanning string literal\n"
     ]
    }
   ],
   "source": [
    "for a in user.account.keys():\n",
    "    print(f'key:{a}\")"
   ]
  },
  {
   "cell_type": "code",
   "execution_count": null,
   "id": "6205aaec",
   "metadata": {},
   "outputs": [],
   "source": [
    "# I want to get only the values...?"
   ]
  },
  {
   "cell_type": "code",
   "execution_count": 3,
   "id": "d896fd37",
   "metadata": {},
   "outputs": [
    {
     "ename": "NameError",
     "evalue": "name 'user_account' is not defined",
     "output_type": "error",
     "traceback": [
      "\u001b[1;31m---------------------------------------------------------------------------\u001b[0m",
      "\u001b[1;31mNameError\u001b[0m                                 Traceback (most recent call last)",
      "\u001b[1;32mC:\\Users\\JAMALA~1\\AppData\\Local\\Temp/ipykernel_1028/2839199771.py\u001b[0m in \u001b[0;36m<module>\u001b[1;34m\u001b[0m\n\u001b[1;32m----> 1\u001b[1;33m \u001b[1;32mfor\u001b[0m \u001b[0mb\u001b[0m \u001b[1;32min\u001b[0m \u001b[0muser_account\u001b[0m\u001b[1;33m.\u001b[0m\u001b[0mvalues\u001b[0m\u001b[1;33m(\u001b[0m\u001b[1;33m)\u001b[0m\u001b[1;33m:\u001b[0m\u001b[1;33m\u001b[0m\u001b[1;33m\u001b[0m\u001b[0m\n\u001b[0m\u001b[0;32m      2\u001b[0m     \u001b[0mprint\u001b[0m\u001b[1;33m(\u001b[0m\u001b[1;34mf\"values:(b)\"\u001b[0m\u001b[1;33m)\u001b[0m\u001b[1;33m\u001b[0m\u001b[1;33m\u001b[0m\u001b[0m\n",
      "\u001b[1;31mNameError\u001b[0m: name 'user_account' is not defined"
     ]
    }
   ],
   "source": [
    "for b in user_account.values():\n",
    "    print(f\"values:(b)\")"
   ]
  },
  {
   "cell_type": "code",
   "execution_count": 4,
   "id": "7d3a68f9",
   "metadata": {},
   "outputs": [
    {
     "ename": "SyntaxError",
     "evalue": "EOL while scanning string literal (Temp/ipykernel_1028/1953729575.py, line 3)",
     "output_type": "error",
     "traceback": [
      "\u001b[1;36m  File \u001b[1;32m\"C:\\Users\\JAMALA~1\\AppData\\Local\\Temp/ipykernel_1028/1953729575.py\"\u001b[1;36m, line \u001b[1;32m3\u001b[0m\n\u001b[1;33m    print(f'value:{y}\\n\")\u001b[0m\n\u001b[1;37m                         ^\u001b[0m\n\u001b[1;31mSyntaxError\u001b[0m\u001b[1;31m:\u001b[0m EOL while scanning string literal\n"
     ]
    }
   ],
   "source": [
    "for x,y in user_account.items():\n",
    "    print(f\"key:{x}\")\n",
    "    print(f'value:{y}\\n\")"
   ]
  },
  {
   "cell_type": "code",
   "execution_count": null,
   "id": "8a6c7b1c",
   "metadata": {},
   "outputs": [],
   "source": [
    "# genral syntax of a fpor loop."
   ]
  },
  {
   "cell_type": "code",
   "execution_count": 5,
   "id": "f06a0a82",
   "metadata": {},
   "outputs": [
    {
     "ename": "NameError",
     "evalue": "name 'mainvar' is not defined",
     "output_type": "error",
     "traceback": [
      "\u001b[1;31m---------------------------------------------------------------------------\u001b[0m",
      "\u001b[1;31mNameError\u001b[0m                                 Traceback (most recent call last)",
      "\u001b[1;32mC:\\Users\\JAMALA~1\\AppData\\Local\\Temp/ipykernel_1028/2850902881.py\u001b[0m in \u001b[0;36m<module>\u001b[1;34m\u001b[0m\n\u001b[1;32m----> 1\u001b[1;33m \u001b[1;32mfor\u001b[0m  \u001b[0mtempvar1\u001b[0m\u001b[1;33m,\u001b[0m \u001b[0mtempvar2\u001b[0m \u001b[1;32min\u001b[0m \u001b[0mmainvar\u001b[0m\u001b[1;33m.\u001b[0m\u001b[0mitems\u001b[0m\u001b[1;33m(\u001b[0m\u001b[1;33m)\u001b[0m\u001b[1;33m:\u001b[0m\u001b[1;33m\u001b[0m\u001b[1;33m\u001b[0m\u001b[0m\n\u001b[0m\u001b[0;32m      2\u001b[0m     \u001b[0mprint\u001b[0m\u001b[1;33m(\u001b[0m\u001b[0mtempvar1\u001b[0m\u001b[1;33m)\u001b[0m\u001b[1;33m\u001b[0m\u001b[1;33m\u001b[0m\u001b[0m\n\u001b[0;32m      3\u001b[0m     \u001b[0mprint\u001b[0m\u001b[1;33m(\u001b[0m\u001b[0mtempvar2\u001b[0m\u001b[1;33m)\u001b[0m\u001b[1;33m\u001b[0m\u001b[1;33m\u001b[0m\u001b[0m\n",
      "\u001b[1;31mNameError\u001b[0m: name 'mainvar' is not defined"
     ]
    }
   ],
   "source": [
    "for  tempvar1, tempvar2 in mainvar.items():\n",
    "    print(tempvar1)\n",
    "    print(tempvar2)"
   ]
  },
  {
   "cell_type": "code",
   "execution_count": null,
   "id": "2b6e8663",
   "metadata": {},
   "outputs": [],
   "source": [
    "# implementation of a for lop on the dictionary"
   ]
  },
  {
   "cell_type": "code",
   "execution_count": null,
   "id": "a800e64a",
   "metadata": {},
   "outputs": [],
   "source": [
    "key, value"
   ]
  },
  {
   "cell_type": "code",
   "execution_count": null,
   "id": "595fd5e8",
   "metadata": {},
   "outputs": [],
   "source": [
    "#genral syntax of afor loop."
   ]
  },
  {
   "cell_type": "code",
   "execution_count": null,
   "id": "be397719",
   "metadata": {},
   "outputs": [],
   "source": [
    "for  tempvar1, tempvar2 in mainvar.items():\n",
    "    print(tempvar1)\n",
    "    print(tempvar2)"
   ]
  },
  {
   "cell_type": "code",
   "execution_count": null,
   "id": "b601c736",
   "metadata": {},
   "outputs": [],
   "source": []
  },
  {
   "cell_type": "code",
   "execution_count": null,
   "id": "7ef5190a",
   "metadata": {},
   "outputs": [],
   "source": [
    "for x,y in user_account:\n",
    "    print(x)\n",
    "    print(y)"
   ]
  },
  {
   "cell_type": "code",
   "execution_count": null,
   "id": "f04055f8",
   "metadata": {},
   "outputs": [],
   "source": [
    "print(alient)"
   ]
  },
  {
   "cell_type": "code",
   "execution_count": null,
   "id": "f4107ae6",
   "metadata": {},
   "outputs": [],
   "source": []
  },
  {
   "cell_type": "code",
   "execution_count": null,
   "id": "50ef5caf",
   "metadata": {},
   "outputs": [],
   "source": [
    "# create a user account in facebook.....?"
   ]
  },
  {
   "cell_type": "code",
   "execution_count": null,
   "id": "2eee1541",
   "metadata": {},
   "outputs": [],
   "source": []
  },
  {
   "cell_type": "code",
   "execution_count": null,
   "id": "eac58b52",
   "metadata": {},
   "outputs": [],
   "source": [
    "user_account = {'username':'codetrainingacademy','firstname':'code','lastname':'training','dob': '01-01-2020','pwd':'54321'}"
   ]
  },
  {
   "cell_type": "code",
   "execution_count": null,
   "id": "ca48d6b6",
   "metadata": {},
   "outputs": [],
   "source": [
    "print(user_account)"
   ]
  },
  {
   "cell_type": "code",
   "execution_count": null,
   "id": "3f3c40be",
   "metadata": {},
   "outputs": [],
   "source": [
    "print(user_account['firstname'])"
   ]
  },
  {
   "cell_type": "code",
   "execution_count": null,
   "id": "09b8a71a",
   "metadata": {},
   "outputs": [],
   "source": []
  },
  {
   "cell_type": "code",
   "execution_count": null,
   "id": "88f92cd4",
   "metadata": {},
   "outputs": [],
   "source": [
    "# implementation of a for loop on the dictionary"
   ]
  },
  {
   "cell_type": "code",
   "execution_count": null,
   "id": "0ff08d63",
   "metadata": {},
   "outputs": [],
   "source": [
    "# how to modify the key value pairs..."
   ]
  },
  {
   "cell_type": "code",
   "execution_count": null,
   "id": "4294270a",
   "metadata": {},
   "outputs": [],
   "source": [
    "print(alien)"
   ]
  },
  {
   "cell_type": "code",
   "execution_count": null,
   "id": "8a45f45b",
   "metadata": {},
   "outputs": [],
   "source": [
    "alien['points'] = 10"
   ]
  },
  {
   "cell_type": "code",
   "execution_count": null,
   "id": "0cb60194",
   "metadata": {},
   "outputs": [],
   "source": [
    "print(alien)"
   ]
  },
  {
   "cell_type": "code",
   "execution_count": null,
   "id": "7dbb35ed",
   "metadata": {},
   "outputs": [],
   "source": [
    "# req : how to  delete the key value pair....?"
   ]
  },
  {
   "cell_type": "code",
   "execution_count": null,
   "id": "ebf9e6ce",
   "metadata": {},
   "outputs": [],
   "source": [
    "del alien['start_position']"
   ]
  },
  {
   "cell_type": "code",
   "execution_count": null,
   "id": "72987970",
   "metadata": {},
   "outputs": [],
   "source": [
    "print(alien)"
   ]
  },
  {
   "cell_type": "code",
   "execution_count": null,
   "id": "d28d13fc",
   "metadata": {},
   "outputs": [],
   "source": [
    "# req : how to add new key value pairs to the dictionary.....?"
   ]
  },
  {
   "cell_type": "code",
   "execution_count": null,
   "id": "27a71c72",
   "metadata": {},
   "outputs": [],
   "source": [
    "# req : start_position-----> 0"
   ]
  },
  {
   "cell_type": "code",
   "execution_count": null,
   "id": "0520502a",
   "metadata": {},
   "outputs": [],
   "source": [
    "alien['start_position'] = 0"
   ]
  },
  {
   "cell_type": "code",
   "execution_count": null,
   "id": "156e074a",
   "metadata": {},
   "outputs": [],
   "source": [
    "print(alien)"
   ]
  },
  {
   "cell_type": "code",
   "execution_count": null,
   "id": "caeb4819",
   "metadata": {},
   "outputs": [],
   "source": []
  },
  {
   "cell_type": "code",
   "execution_count": null,
   "id": "df2978e9",
   "metadata": {},
   "outputs": [],
   "source": [
    "can i ive the value and get the key......? =====. No it is not accepted, only we can give the key and get the value."
   ]
  },
  {
   "cell_type": "code",
   "execution_count": null,
   "id": "4f961bdb",
   "metadata": {},
   "outputs": [],
   "source": [
    "print(alien[5])"
   ]
  },
  {
   "cell_type": "code",
   "execution_count": null,
   "id": "ea9870fd",
   "metadata": {},
   "outputs": [],
   "source": [
    "# req : how to access the key value pairs.\n",
    "\n",
    "# give the key and get the value.."
   ]
  },
  {
   "cell_type": "code",
   "execution_count": null,
   "id": "8f653c94",
   "metadata": {},
   "outputs": [],
   "source": [
    "# req : i want to know the color of the alien...?"
   ]
  },
  {
   "cell_type": "code",
   "execution_count": null,
   "id": "d87a13ba",
   "metadata": {},
   "outputs": [],
   "source": [
    "print(alien['color'])"
   ]
  },
  {
   "cell_type": "code",
   "execution_count": null,
   "id": "eeae4188",
   "metadata": {},
   "outputs": [],
   "source": [
    "print(alien['points'])"
   ]
  },
  {
   "cell_type": "code",
   "execution_count": null,
   "id": "166d1455",
   "metadata": {},
   "outputs": [],
   "source": [
    "# req : how to add new key value pairs to the dictionary...?  "
   ]
  },
  {
   "cell_type": "code",
   "execution_count": null,
   "id": "de2652da",
   "metadata": {},
   "outputs": [],
   "source": [
    "# req : start_position-----> 0"
   ]
  },
  {
   "cell_type": "code",
   "execution_count": null,
   "id": "386369d7",
   "metadata": {},
   "outputs": [],
   "source": [
    "alien['start_position'] = 0"
   ]
  },
  {
   "cell_type": "code",
   "execution_count": null,
   "id": "42dce89d",
   "metadata": {},
   "outputs": [],
   "source": [
    "print(alien)"
   ]
  },
  {
   "cell_type": "code",
   "execution_count": null,
   "id": "8f8aeed6",
   "metadata": {},
   "outputs": [],
   "source": [
    "type(alien)"
   ]
  },
  {
   "cell_type": "code",
   "execution_count": null,
   "id": "9880e359",
   "metadata": {},
   "outputs": [],
   "source": [
    "Introduction to dictionary datatype : "
   ]
  },
  {
   "cell_type": "code",
   "execution_count": null,
   "id": "9f47c4ad",
   "metadata": {},
   "outputs": [],
   "source": [
    "defination : A dictionary is a  combination of a key value pairs.\n",
    "    \n",
    "classification : it is classified as a mutable datatype\n",
    "    \n",
    "how to define the dictionary....? =======> {}"
   ]
  },
  {
   "cell_type": "code",
   "execution_count": null,
   "id": "d01a196a",
   "metadata": {},
   "outputs": [],
   "source": []
  },
  {
   "cell_type": "code",
   "execution_count": null,
   "id": "44c60cbc",
   "metadata": {},
   "outputs": [],
   "source": [
    "# req : alien ====>"
   ]
  },
  {
   "cell_type": "code",
   "execution_count": null,
   "id": "ae8f7596",
   "metadata": {},
   "outputs": [],
   "source": []
  },
  {
   "cell_type": "code",
   "execution_count": null,
   "id": "86c6f1cb",
   "metadata": {},
   "outputs": [],
   "source": [
    "alien = {'color': 'green','points':5}"
   ]
  },
  {
   "cell_type": "code",
   "execution_count": null,
   "id": "8148e3ff",
   "metadata": {},
   "outputs": [],
   "source": [
    "print(alien)"
   ]
  },
  {
   "cell_type": "code",
   "execution_count": null,
   "id": "bc053f72",
   "metadata": {},
   "outputs": [],
   "source": [
    "type(alien)"
   ]
  },
  {
   "cell_type": "code",
   "execution_count": null,
   "id": "78286d5e",
   "metadata": {},
   "outputs": [],
   "source": []
  }
 ],
 "metadata": {
  "kernelspec": {
   "display_name": "Python 3 (ipykernel)",
   "language": "python",
   "name": "python3"
  },
  "language_info": {
   "codemirror_mode": {
    "name": "ipython",
    "version": 3
   },
   "file_extension": ".py",
   "mimetype": "text/x-python",
   "name": "python",
   "nbconvert_exporter": "python",
   "pygments_lexer": "ipython3",
   "version": "3.9.7"
  }
 },
 "nbformat": 4,
 "nbformat_minor": 5
}
