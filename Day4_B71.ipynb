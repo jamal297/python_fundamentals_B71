{
 "cells": [
  {
   "cell_type": "code",
   "execution_count": null,
   "id": "1b005ab0",
   "metadata": {},
   "outputs": [],
   "source": [
    "introduction to Numbers :"
   ]
  },
  {
   "cell_type": "code",
   "execution_count": null,
   "id": "d51a217a",
   "metadata": {},
   "outputs": [],
   "source": [
    "integers -----> int 0,1,2......\n",
    "floats -------> float -----> 0.1 , 0.5, 5.2"
   ]
  },
  {
   "cell_type": "code",
   "execution_count": null,
   "id": "860943e9",
   "metadata": {},
   "outputs": [],
   "source": []
  },
  {
   "cell_type": "code",
   "execution_count": 2,
   "id": "790697be",
   "metadata": {},
   "outputs": [],
   "source": [
    "number = 2"
   ]
  },
  {
   "cell_type": "code",
   "execution_count": 3,
   "id": "dfdb3731",
   "metadata": {},
   "outputs": [
    {
     "name": "stdout",
     "output_type": "stream",
     "text": [
      "2\n"
     ]
    }
   ],
   "source": [
    "print(number)"
   ]
  },
  {
   "cell_type": "code",
   "execution_count": 4,
   "id": "b8983587",
   "metadata": {},
   "outputs": [
    {
     "data": {
      "text/plain": [
       "int"
      ]
     },
     "execution_count": 4,
     "metadata": {},
     "output_type": "execute_result"
    }
   ],
   "source": [
    "type(number)"
   ]
  },
  {
   "cell_type": "code",
   "execution_count": null,
   "id": "86d7e0b8",
   "metadata": {},
   "outputs": [],
   "source": []
  },
  {
   "cell_type": "code",
   "execution_count": 5,
   "id": "2a99df3e",
   "metadata": {},
   "outputs": [],
   "source": [
    "n = 0.5"
   ]
  },
  {
   "cell_type": "code",
   "execution_count": 6,
   "id": "ec0beee6",
   "metadata": {},
   "outputs": [
    {
     "name": "stdout",
     "output_type": "stream",
     "text": [
      "0.5\n"
     ]
    }
   ],
   "source": [
    "print(n)"
   ]
  },
  {
   "cell_type": "code",
   "execution_count": 7,
   "id": "12b20e2c",
   "metadata": {},
   "outputs": [
    {
     "data": {
      "text/plain": [
       "float"
      ]
     },
     "execution_count": 7,
     "metadata": {},
     "output_type": "execute_result"
    }
   ],
   "source": [
    "type(n)"
   ]
  },
  {
   "cell_type": "code",
   "execution_count": null,
   "id": "fb769f98",
   "metadata": {},
   "outputs": [],
   "source": [
    "introduction to list datatype :"
   ]
  },
  {
   "cell_type": "code",
   "execution_count": null,
   "id": "7c249396",
   "metadata": {},
   "outputs": [],
   "source": [
    "defination : A ist is a collection of items declared in a particular order.\n",
    "    \n",
    "classification : it is classified as a mutable datatype\n",
    "    \n",
    "how to define / declare the list datatype =======> []"
   ]
  },
  {
   "cell_type": "code",
   "execution_count": null,
   "id": "e3bb6aab",
   "metadata": {},
   "outputs": [],
   "source": []
  },
  {
   "cell_type": "code",
   "execution_count": 8,
   "id": "fe0e35a4",
   "metadata": {},
   "outputs": [],
   "source": [
    "students = ['kumar','naveed', 'amala', 'areeba', 'keerthi', 'juveriya']"
   ]
  },
  {
   "cell_type": "code",
   "execution_count": 9,
   "id": "6068c0e9",
   "metadata": {},
   "outputs": [
    {
     "name": "stdout",
     "output_type": "stream",
     "text": [
      "['kumar', 'naveed', 'amala', 'areeba', 'keerthi', 'juveriya']\n"
     ]
    }
   ],
   "source": [
    "print(students)"
   ]
  },
  {
   "cell_type": "code",
   "execution_count": null,
   "id": "24dc9b42",
   "metadata": {},
   "outputs": [],
   "source": [
    "understanding the concept of indexing :\n",
    "    0,1,2,3...................N"
   ]
  },
  {
   "cell_type": "code",
   "execution_count": null,
   "id": "ef1fab6e",
   "metadata": {},
   "outputs": [],
   "source": []
  },
  {
   "cell_type": "code",
   "execution_count": null,
   "id": "ec44f04f",
   "metadata": {},
   "outputs": [],
   "source": []
  },
  {
   "cell_type": "code",
   "execution_count": null,
   "id": "e0339585",
   "metadata": {},
   "outputs": [],
   "source": []
  },
  {
   "cell_type": "code",
   "execution_count": null,
   "id": "7f0876d3",
   "metadata": {},
   "outputs": [],
   "source": [
    "# req : i want to access naveed name in the output......?"
   ]
  },
  {
   "cell_type": "code",
   "execution_count": 10,
   "id": "5f6c6859",
   "metadata": {},
   "outputs": [
    {
     "name": "stdout",
     "output_type": "stream",
     "text": [
      "naveed\n"
     ]
    }
   ],
   "source": [
    "print(students[1])"
   ]
  },
  {
   "cell_type": "code",
   "execution_count": 11,
   "id": "ef0746a7",
   "metadata": {},
   "outputs": [
    {
     "name": "stdout",
     "output_type": "stream",
     "text": [
      "Naveed\n"
     ]
    }
   ],
   "source": [
    "print(students[1]. title())"
   ]
  },
  {
   "cell_type": "code",
   "execution_count": null,
   "id": "bef29657",
   "metadata": {},
   "outputs": [],
   "source": []
  },
  {
   "cell_type": "code",
   "execution_count": null,
   "id": "e2ba5c3d",
   "metadata": {},
   "outputs": [],
   "source": [
    "1. how to add new elements to the list\n",
    "\n",
    "2. how to modify the elements in the list\n",
    "\n",
    "3. how to delete the elements in the list"
   ]
  },
  {
   "cell_type": "code",
   "execution_count": null,
   "id": "0195c144",
   "metadata": {},
   "outputs": [],
   "source": []
  },
  {
   "cell_type": "code",
   "execution_count": null,
   "id": "3bcfe6a6",
   "metadata": {},
   "outputs": [],
   "source": [
    "# req : i want to add ramesh to the above list..."
   ]
  },
  {
   "cell_type": "code",
   "execution_count": 12,
   "id": "447e75b9",
   "metadata": {},
   "outputs": [],
   "source": [
    "students.append('ramesh')"
   ]
  },
  {
   "cell_type": "code",
   "execution_count": 13,
   "id": "00bb0960",
   "metadata": {},
   "outputs": [
    {
     "name": "stdout",
     "output_type": "stream",
     "text": [
      "['kumar', 'naveed', 'amala', 'areeba', 'keerthi', 'juveriya', 'ramesh']\n"
     ]
    }
   ],
   "source": [
    "print(students)"
   ]
  },
  {
   "cell_type": "code",
   "execution_count": null,
   "id": "df2c1973",
   "metadata": {},
   "outputs": [],
   "source": []
  },
  {
   "cell_type": "code",
   "execution_count": null,
   "id": "5bddd35e",
   "metadata": {},
   "outputs": [],
   "source": [
    "# req : i wan to to add triveni to the above list...."
   ]
  },
  {
   "cell_type": "code",
   "execution_count": 14,
   "id": "e93b675a",
   "metadata": {},
   "outputs": [],
   "source": [
    "students.append('triveni')"
   ]
  },
  {
   "cell_type": "code",
   "execution_count": 16,
   "id": "2b61fddf",
   "metadata": {},
   "outputs": [
    {
     "name": "stdout",
     "output_type": "stream",
     "text": [
      "['kumar', 'naveed', 'amala', 'areeba', 'keerthi', 'juveriya', 'ramesh', 'triveni']\n"
     ]
    }
   ],
   "source": [
    "print(students)"
   ]
  },
  {
   "cell_type": "code",
   "execution_count": null,
   "id": "c6bc284e",
   "metadata": {},
   "outputs": [],
   "source": [
    "# req : i want to add mohit name to the 2nd index position...."
   ]
  },
  {
   "cell_type": "code",
   "execution_count": 17,
   "id": "eb34db8d",
   "metadata": {},
   "outputs": [],
   "source": [
    "students.insert(2,'mohit')"
   ]
  },
  {
   "cell_type": "code",
   "execution_count": 18,
   "id": "c629048f",
   "metadata": {},
   "outputs": [
    {
     "name": "stdout",
     "output_type": "stream",
     "text": [
      "['kumar', 'naveed', 'mohit', 'amala', 'areeba', 'keerthi', 'juveriya', 'ramesh', 'triveni']\n"
     ]
    }
   ],
   "source": [
    "print(students)"
   ]
  },
  {
   "cell_type": "code",
   "execution_count": 19,
   "id": "1cf2c642",
   "metadata": {},
   "outputs": [
    {
     "name": "stdout",
     "output_type": "stream",
     "text": [
      "mohit\n"
     ]
    }
   ],
   "source": [
    "print(students[2])"
   ]
  },
  {
   "cell_type": "code",
   "execution_count": null,
   "id": "87b688ee",
   "metadata": {},
   "outputs": [],
   "source": [
    "interview questions : can you explain the diff dtw append and insert method in a list.....?"
   ]
  },
  {
   "cell_type": "code",
   "execution_count": null,
   "id": "a3f75feb",
   "metadata": {},
   "outputs": [],
   "source": []
  },
  {
   "cell_type": "code",
   "execution_count": 20,
   "id": "6df63317",
   "metadata": {},
   "outputs": [
    {
     "name": "stdout",
     "output_type": "stream",
     "text": [
      "['kumar', 'naveed', 'mohit', 'amala', 'areeba', 'keerthi', 'juveriya', 'ramesh', 'triveni']\n"
     ]
    }
   ],
   "source": [
    "print(students)"
   ]
  },
  {
   "cell_type": "code",
   "execution_count": null,
   "id": "2ab4350a",
   "metadata": {},
   "outputs": [],
   "source": [
    "# req : i want to modify naveed name to hamza...?"
   ]
  },
  {
   "cell_type": "code",
   "execution_count": 21,
   "id": "32acfb66",
   "metadata": {},
   "outputs": [],
   "source": [
    "students[1] = 'hamza'"
   ]
  },
  {
   "cell_type": "code",
   "execution_count": 22,
   "id": "11214cab",
   "metadata": {},
   "outputs": [
    {
     "name": "stdout",
     "output_type": "stream",
     "text": [
      "['kumar', 'hamza', 'mohit', 'amala', 'areeba', 'keerthi', 'juveriya', 'ramesh', 'triveni']\n"
     ]
    }
   ],
   "source": [
    "print(students)"
   ]
  },
  {
   "cell_type": "code",
   "execution_count": 23,
   "id": "f3f43869",
   "metadata": {},
   "outputs": [
    {
     "name": "stdout",
     "output_type": "stream",
     "text": [
      "['kumar', 'hamza', 'mohit', 'amala', 'areeba', 'keerthi', 'juveriya', 'ramesh', 'triveni']\n"
     ]
    }
   ],
   "source": [
    "print(students)"
   ]
  },
  {
   "cell_type": "code",
   "execution_count": null,
   "id": "7c63dd49",
   "metadata": {},
   "outputs": [],
   "source": []
  },
  {
   "cell_type": "code",
   "execution_count": null,
   "id": "25b54c13",
   "metadata": {},
   "outputs": [],
   "source": [
    "# how to delete the elements from the list datatype..."
   ]
  },
  {
   "cell_type": "code",
   "execution_count": null,
   "id": "622cedf9",
   "metadata": {},
   "outputs": [],
   "source": [
    "# req : i want to delete kumar name from the above list......?"
   ]
  },
  {
   "cell_type": "code",
   "execution_count": 24,
   "id": "d362ab26",
   "metadata": {},
   "outputs": [],
   "source": [
    "del students [0]"
   ]
  },
  {
   "cell_type": "code",
   "execution_count": 25,
   "id": "5720b4a9",
   "metadata": {},
   "outputs": [
    {
     "name": "stdout",
     "output_type": "stream",
     "text": [
      "['hamza', 'mohit', 'amala', 'areeba', 'keerthi', 'juveriya', 'ramesh', 'triveni']\n"
     ]
    }
   ],
   "source": [
    "print(students)"
   ]
  },
  {
   "cell_type": "code",
   "execution_count": null,
   "id": "4d4ac5ed",
   "metadata": {},
   "outputs": [],
   "source": []
  }
 ],
 "metadata": {
  "kernelspec": {
   "display_name": "Python 3 (ipykernel)",
   "language": "python",
   "name": "python3"
  },
  "language_info": {
   "codemirror_mode": {
    "name": "ipython",
    "version": 3
   },
   "file_extension": ".py",
   "mimetype": "text/x-python",
   "name": "python",
   "nbconvert_exporter": "python",
   "pygments_lexer": "ipython3",
   "version": "3.9.7"
  }
 },
 "nbformat": 4,
 "nbformat_minor": 5
}
