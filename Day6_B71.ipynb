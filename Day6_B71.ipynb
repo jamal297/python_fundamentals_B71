{
 "cells": [
  {
   "cell_type": "code",
   "execution_count": null,
   "id": "b6d9dc77",
   "metadata": {},
   "outputs": [],
   "source": [
    "Introduction to looping statements :"
   ]
  },
  {
   "cell_type": "code",
   "execution_count": null,
   "id": "487eccac",
   "metadata": {},
   "outputs": [],
   "source": [
    "1. for loop\n",
    "2. while loop"
   ]
  },
  {
   "cell_type": "code",
   "execution_count": null,
   "id": "772ee145",
   "metadata": {},
   "outputs": [],
   "source": []
  },
  {
   "cell_type": "code",
   "execution_count": null,
   "id": "a02af8d9",
   "metadata": {},
   "outputs": [],
   "source": [
    "introduction to for loops :"
   ]
  },
  {
   "cell_type": "code",
   "execution_count": null,
   "id": "08e933b8",
   "metadata": {},
   "outputs": [],
   "source": [
    "# general syntax of a for loop :"
   ]
  },
  {
   "cell_type": "code",
   "execution_count": null,
   "id": "bef373fb",
   "metadata": {},
   "outputs": [],
   "source": [
    "for tempvar in mainvar :\n",
    "    print(tempvar)"
   ]
  },
  {
   "cell_type": "code",
   "execution_count": null,
   "id": "24d513de",
   "metadata": {},
   "outputs": [],
   "source": []
  },
  {
   "cell_type": "code",
   "execution_count": 1,
   "id": "b621108e",
   "metadata": {},
   "outputs": [],
   "source": [
    "students = ['anil','iqbal','areeba','kouser','naveen','david']"
   ]
  },
  {
   "cell_type": "code",
   "execution_count": 2,
   "id": "c4f8d14c",
   "metadata": {},
   "outputs": [
    {
     "name": "stdout",
     "output_type": "stream",
     "text": [
      "['anil', 'iqbal', 'areeba', 'kouser', 'naveen', 'david']\n"
     ]
    }
   ],
   "source": [
    "print(students)"
   ]
  },
  {
   "cell_type": "code",
   "execution_count": null,
   "id": "4e96beb6",
   "metadata": {},
   "outputs": [],
   "source": []
  },
  {
   "cell_type": "code",
   "execution_count": 3,
   "id": "967a908e",
   "metadata": {},
   "outputs": [],
   "source": [
    "message = f\"keep up the good work, {students[0].title()}\""
   ]
  },
  {
   "cell_type": "code",
   "execution_count": 4,
   "id": "4cf4046d",
   "metadata": {},
   "outputs": [
    {
     "name": "stdout",
     "output_type": "stream",
     "text": [
      "keep up the good work, Anil\n"
     ]
    }
   ],
   "source": [
    "print(message)"
   ]
  },
  {
   "cell_type": "code",
   "execution_count": 5,
   "id": "93e8a5aa",
   "metadata": {},
   "outputs": [],
   "source": [
    "message = f\"keep up the good work, {students[1].title()}\""
   ]
  },
  {
   "cell_type": "code",
   "execution_count": 6,
   "id": "24ddb193",
   "metadata": {},
   "outputs": [
    {
     "name": "stdout",
     "output_type": "stream",
     "text": [
      "keep up the good work, Iqbal\n"
     ]
    }
   ],
   "source": [
    "print(message)"
   ]
  },
  {
   "cell_type": "code",
   "execution_count": null,
   "id": "5be6bff5",
   "metadata": {},
   "outputs": [],
   "source": []
  },
  {
   "cell_type": "code",
   "execution_count": 9,
   "id": "cc9ccfba",
   "metadata": {},
   "outputs": [
    {
     "name": "stdout",
     "output_type": "stream",
     "text": [
      "keep up the good work, Anil\n",
      "keep up the good work, Iqbal\n",
      "keep up the good work, Areeba\n",
      "keep up the good work, Kouser\n",
      "keep up the good work, Naveen\n",
      "keep up the good work, David\n"
     ]
    }
   ],
   "source": [
    "for x in students:\n",
    "    print(f\"keep up the good work, {x.title()}\")"
   ]
  },
  {
   "cell_type": "code",
   "execution_count": null,
   "id": "8326bbc8",
   "metadata": {},
   "outputs": [],
   "source": [
    "for tempvar in mainvar:\n",
    "    print(tempvar)"
   ]
  },
  {
   "cell_type": "code",
   "execution_count": 10,
   "id": "63180455",
   "metadata": {},
   "outputs": [
    {
     "name": "stdout",
     "output_type": "stream",
     "text": [
      "anil\n",
      "iqbal\n",
      "areeba\n",
      "kouser\n",
      "naveen\n",
      "david\n"
     ]
    }
   ],
   "source": [
    "for x in students:\n",
    "    print(x)"
   ]
  },
  {
   "cell_type": "code",
   "execution_count": 11,
   "id": "2f6eee23",
   "metadata": {},
   "outputs": [
    {
     "name": "stdout",
     "output_type": "stream",
     "text": [
      "anil\n",
      "iqbal\n",
      "areeba\n",
      "kouser\n",
      "naveen\n",
      "david\n"
     ]
    }
   ],
   "source": [
    "for a in students:\n",
    "    print(a)"
   ]
  },
  {
   "cell_type": "code",
   "execution_count": 12,
   "id": "7b944dc7",
   "metadata": {},
   "outputs": [
    {
     "ename": "IndentationError",
     "evalue": "expected an indented block (Temp/ipykernel_5788/4141953483.py, line 2)",
     "output_type": "error",
     "traceback": [
      "\u001b[1;36m  File \u001b[1;32m\"C:\\Users\\JAMALA~1\\AppData\\Local\\Temp/ipykernel_5788/4141953483.py\"\u001b[1;36m, line \u001b[1;32m2\u001b[0m\n\u001b[1;33m    print(a)\u001b[0m\n\u001b[1;37m    ^\u001b[0m\n\u001b[1;31mIndentationError\u001b[0m\u001b[1;31m:\u001b[0m expected an indented block\n"
     ]
    }
   ],
   "source": [
    "for a in students:\n",
    "print(a)"
   ]
  },
  {
   "cell_type": "code",
   "execution_count": 13,
   "id": "f10fe214",
   "metadata": {},
   "outputs": [
    {
     "name": "stdout",
     "output_type": "stream",
     "text": [
      "keep up the good work,Anil\n",
      "keep up the good work,Iqbal\n",
      "keep up the good work,Areeba\n",
      "keep up the good work,Kouser\n",
      "keep up the good work,Naveen\n",
      "keep up the good work,David\n"
     ]
    }
   ],
   "source": [
    "for x in students:\n",
    "    print(f\"keep up the good work,{x.title()}\")"
   ]
  },
  {
   "cell_type": "code",
   "execution_count": 14,
   "id": "38ced72c",
   "metadata": {},
   "outputs": [
    {
     "name": "stdout",
     "output_type": "stream",
     "text": [
      "keep up the good work,Anil\n",
      "i will be looking forward to receive your todays submission, Anil\n",
      "keep up the good work,Iqbal\n",
      "i will be looking forward to receive your todays submission, Iqbal\n",
      "keep up the good work,Areeba\n",
      "i will be looking forward to receive your todays submission, Areeba\n",
      "keep up the good work,Kouser\n",
      "i will be looking forward to receive your todays submission, Kouser\n",
      "keep up the good work,Naveen\n",
      "i will be looking forward to receive your todays submission, Naveen\n",
      "keep up the good work,David\n",
      "i will be looking forward to receive your todays submission, David\n"
     ]
    }
   ],
   "source": [
    "for x in students:\n",
    "    print(f\"keep up the good work,{x.title()}\")\n",
    "    print(f\"i will be looking forward to receive your todays submission, {x.title()}\")"
   ]
  },
  {
   "cell_type": "code",
   "execution_count": 15,
   "id": "c437709c",
   "metadata": {},
   "outputs": [
    {
     "name": "stdout",
     "output_type": "stream",
     "text": [
      "keep up the good work,Anil\n",
      "i will be looking forward to receive your todays submission, Anil.\n",
      "\n",
      "keep up the good work,Iqbal\n",
      "i will be looking forward to receive your todays submission, Iqbal.\n",
      "\n",
      "keep up the good work,Areeba\n",
      "i will be looking forward to receive your todays submission, Areeba.\n",
      "\n",
      "keep up the good work,Kouser\n",
      "i will be looking forward to receive your todays submission, Kouser.\n",
      "\n",
      "keep up the good work,Naveen\n",
      "i will be looking forward to receive your todays submission, Naveen.\n",
      "\n",
      "keep up the good work,David\n",
      "i will be looking forward to receive your todays submission, David.\n",
      "\n"
     ]
    }
   ],
   "source": [
    "for x in students:\n",
    "    print(f\"keep up the good work,{x.title()}\")\n",
    "    print(f\"i will be looking forward to receive your todays submission, {x.title()}.\\n\")"
   ]
  },
  {
   "cell_type": "code",
   "execution_count": 16,
   "id": "40ead190",
   "metadata": {},
   "outputs": [
    {
     "name": "stdout",
     "output_type": "stream",
     "text": [
      "keep up the good work,Anil\n",
      "i will be looking forward to receive your todays submission, Anil.\n",
      "\n",
      "keep up the good work,Iqbal\n",
      "i will be looking forward to receive your todays submission, Iqbal.\n",
      "\n",
      "keep up the good work,Areeba\n",
      "i will be looking forward to receive your todays submission, Areeba.\n",
      "\n",
      "keep up the good work,Kouser\n",
      "i will be looking forward to receive your todays submission, Kouser.\n",
      "\n",
      "keep up the good work,Naveen\n",
      "i will be looking forward to receive your todays submission, Naveen.\n",
      "\n",
      "keep up the good work,David\n",
      "i will be looking forward to receive your todays submission, David.\n",
      "\n",
      "Thank you all for joining in the session\n"
     ]
    }
   ],
   "source": [
    "for x in students:\n",
    "    print(f\"keep up the good work,{x.title()}\")\n",
    "    print(f\"i will be looking forward to receive your todays submission, {x.title()}.\\n\") # it will be applied to all the \n",
    "\n",
    "# elements in the list\n",
    "\n",
    "print(\"Thank you all for joining in the session\") # only once impact"
   ]
  },
  {
   "cell_type": "code",
   "execution_count": null,
   "id": "275e1c94",
   "metadata": {},
   "outputs": [],
   "source": []
  }
 ],
 "metadata": {
  "kernelspec": {
   "display_name": "Python 3 (ipykernel)",
   "language": "python",
   "name": "python3"
  },
  "language_info": {
   "codemirror_mode": {
    "name": "ipython",
    "version": 3
   },
   "file_extension": ".py",
   "mimetype": "text/x-python",
   "name": "python",
   "nbconvert_exporter": "python",
   "pygments_lexer": "ipython3",
   "version": "3.9.7"
  }
 },
 "nbformat": 4,
 "nbformat_minor": 5
}
