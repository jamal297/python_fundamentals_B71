{
 "cells": [
  {
   "cell_type": "code",
   "execution_count": null,
   "id": "62094031",
   "metadata": {},
   "outputs": [],
   "source": [
    "understanding the variables in python :\n",
    "    "
   ]
  },
  {
   "cell_type": "code",
   "execution_count": null,
   "id": "6f53afba",
   "metadata": {},
   "outputs": [],
   "source": []
  },
  {
   "cell_type": "code",
   "execution_count": null,
   "id": "acd36631",
   "metadata": {},
   "outputs": [],
   "source": [
    "x = 2\n",
    "y = 3"
   ]
  },
  {
   "cell_type": "code",
   "execution_count": 3,
   "id": "4289aebb",
   "metadata": {},
   "outputs": [
    {
     "name": "stdout",
     "output_type": "stream",
     "text": [
      "5\n"
     ]
    }
   ],
   "source": [
    "x = 2\n",
    "y = 3\n",
    "z = x+y\n",
    "\n",
    "print(z)"
   ]
  },
  {
   "cell_type": "code",
   "execution_count": null,
   "id": "b3466d24",
   "metadata": {},
   "outputs": [],
   "source": []
  },
  {
   "cell_type": "code",
   "execution_count": null,
   "id": "f99a423c",
   "metadata": {},
   "outputs": [],
   "source": [
    "Rules for declaring the variables in python :"
   ]
  },
  {
   "cell_type": "code",
   "execution_count": null,
   "id": "e75b70b2",
   "metadata": {},
   "outputs": [],
   "source": [
    "Rule No - 1 : A variable name should not contain any namespaces"
   ]
  },
  {
   "cell_type": "code",
   "execution_count": 4,
   "id": "7aa1fcfc",
   "metadata": {},
   "outputs": [
    {
     "ename": "SyntaxError",
     "evalue": "invalid syntax (Temp/ipykernel_4604/3188792262.py, line 1)",
     "output_type": "error",
     "traceback": [
      "\u001b[1;36m  File \u001b[1;32m\"C:\\Users\\JAMALA~1\\AppData\\Local\\Temp/ipykernel_4604/3188792262.py\"\u001b[1;36m, line \u001b[1;32m1\u001b[0m\n\u001b[1;33m    first name = 'Faiyaz'\u001b[0m\n\u001b[1;37m          ^\u001b[0m\n\u001b[1;31mSyntaxError\u001b[0m\u001b[1;31m:\u001b[0m invalid syntax\n"
     ]
    }
   ],
   "source": [
    "first name = 'Faiyaz'\n",
    "print(first name)\n"
   ]
  },
  {
   "cell_type": "code",
   "execution_count": 5,
   "id": "6a66f7b2",
   "metadata": {},
   "outputs": [
    {
     "name": "stdout",
     "output_type": "stream",
     "text": [
      "Faiyaz\n"
     ]
    }
   ],
   "source": [
    "firstname = 'Faiyaz'\n",
    "\n",
    "print(firstname)\n"
   ]
  },
  {
   "cell_type": "code",
   "execution_count": 6,
   "id": "22d59d93",
   "metadata": {},
   "outputs": [
    {
     "name": "stdout",
     "output_type": "stream",
     "text": [
      "Faiyaz\n"
     ]
    }
   ],
   "source": [
    "first_name = 'Faiyaz'\n",
    "\n",
    "print(first_name)"
   ]
  },
  {
   "cell_type": "code",
   "execution_count": null,
   "id": "8de016b7",
   "metadata": {},
   "outputs": [],
   "source": [
    "Rule No - 2 : A variable name should not start with the number **"
   ]
  },
  {
   "cell_type": "code",
   "execution_count": 7,
   "id": "4315f2f6",
   "metadata": {},
   "outputs": [
    {
     "ename": "SyntaxError",
     "evalue": "invalid syntax (Temp/ipykernel_4604/645546121.py, line 1)",
     "output_type": "error",
     "traceback": [
      "\u001b[1;36m  File \u001b[1;32m\"C:\\Users\\JAMALA~1\\AppData\\Local\\Temp/ipykernel_4604/645546121.py\"\u001b[1;36m, line \u001b[1;32m1\u001b[0m\n\u001b[1;33m    1name = 'david'\u001b[0m\n\u001b[1;37m     ^\u001b[0m\n\u001b[1;31mSyntaxError\u001b[0m\u001b[1;31m:\u001b[0m invalid syntax\n"
     ]
    }
   ],
   "source": [
    "1name = 'david'\n",
    "\n",
    "print(1name)"
   ]
  },
  {
   "cell_type": "code",
   "execution_count": 8,
   "id": "9e63f63d",
   "metadata": {},
   "outputs": [
    {
     "name": "stdout",
     "output_type": "stream",
     "text": [
      "david\n"
     ]
    }
   ],
   "source": [
    "name1 = 'david'\n",
    "\n",
    "print(name1)"
   ]
  },
  {
   "cell_type": "code",
   "execution_count": null,
   "id": "379caf6d",
   "metadata": {},
   "outputs": [],
   "source": [
    "Rule No - 3 : A variable name should not contain anyspecial characters"
   ]
  },
  {
   "cell_type": "code",
   "execution_count": null,
   "id": "bfe90b7e",
   "metadata": {},
   "outputs": [],
   "source": [
    "@ # $ & *"
   ]
  },
  {
   "cell_type": "code",
   "execution_count": 9,
   "id": "def96fee",
   "metadata": {},
   "outputs": [
    {
     "ename": "SyntaxError",
     "evalue": "invalid syntax (Temp/ipykernel_4604/4230373084.py, line 1)",
     "output_type": "error",
     "traceback": [
      "\u001b[1;36m  File \u001b[1;32m\"C:\\Users\\JAMALA~1\\AppData\\Local\\Temp/ipykernel_4604/4230373084.py\"\u001b[1;36m, line \u001b[1;32m1\u001b[0m\n\u001b[1;33m    name@ = 'areeba'\u001b[0m\n\u001b[1;37m          ^\u001b[0m\n\u001b[1;31mSyntaxError\u001b[0m\u001b[1;31m:\u001b[0m invalid syntax\n"
     ]
    }
   ],
   "source": [
    "name@ = 'areeba'\n",
    "print(name@)"
   ]
  },
  {
   "cell_type": "code",
   "execution_count": null,
   "id": "2cf72812",
   "metadata": {},
   "outputs": [],
   "source": [
    "Introduction to datatypes in python :"
   ]
  },
  {
   "cell_type": "code",
   "execution_count": null,
   "id": "e6689330",
   "metadata": {},
   "outputs": [],
   "source": [
    "1. String =====> str\n",
    "2. Numbers -----> integers ===>int floats=====> float(decimels)\n",
    "3. lists =====> list\n",
    "4. tuples =====> tuple\n",
    "5. dictionaries =====> dict"
   ]
  },
  {
   "cell_type": "code",
   "execution_count": null,
   "id": "6194bb37",
   "metadata": {},
   "outputs": [],
   "source": []
  },
  {
   "cell_type": "code",
   "execution_count": null,
   "id": "f83f4bd9",
   "metadata": {},
   "outputs": [],
   "source": [
    "classification of datatypes :\n",
    "    broadly classified in two categories\n",
    "    1. mutable datatypes =====> which we edit and alter =====> flexible in nature\n",
    "    2. immutable datatypes =====> which we cannot edit and alter =====> fixed in nature"
   ]
  },
  {
   "cell_type": "code",
   "execution_count": null,
   "id": "ad722cb8",
   "metadata": {},
   "outputs": [],
   "source": [
    "introduction to string datatype :\n",
    "definition : A string is nothing but a series of characters declared in quotes\n",
    "classification : It is classified as an immutable datatype (fixed datatype)\n",
    "    \n",
    "how to declare / define the string datatype : \n",
    "    1. single quote =====> ''\n",
    "    2. double quotes =====> \" \"\n",
    "    3. triple quote =====> \"\"\" \"\"\""
   ]
  },
  {
   "cell_type": "code",
   "execution_count": 10,
   "id": "05f63f3f",
   "metadata": {},
   "outputs": [
    {
     "name": "stdout",
     "output_type": "stream",
     "text": [
      "kumar\n"
     ]
    }
   ],
   "source": [
    "name = 'kumar' # single quote\n",
    "\n",
    "print(name)"
   ]
  },
  {
   "cell_type": "code",
   "execution_count": 13,
   "id": "35f4087c",
   "metadata": {},
   "outputs": [
    {
     "name": "stdout",
     "output_type": "stream",
     "text": [
      "juveriya\n"
     ]
    }
   ],
   "source": [
    "name2 = \"juveriya\" # double quote\n",
    "\n",
    "print(name2)"
   ]
  },
  {
   "cell_type": "code",
   "execution_count": 14,
   "id": "9d1de9bd",
   "metadata": {},
   "outputs": [
    {
     "name": "stdout",
     "output_type": "stream",
     "text": [
      "rishi\n"
     ]
    }
   ],
   "source": [
    "name3 = \"\"\"rishi\"\"\" # triple quote\n",
    "\n",
    "print(name3)"
   ]
  },
  {
   "cell_type": "code",
   "execution_count": null,
   "id": "7e7850c2",
   "metadata": {},
   "outputs": [],
   "source": [
    "# is used for commenting the lines -----> it will not impact the code"
   ]
  },
  {
   "cell_type": "code",
   "execution_count": null,
   "id": "8e644a9d",
   "metadata": {},
   "outputs": [],
   "source": []
  },
  {
   "cell_type": "code",
   "execution_count": null,
   "id": "3450e32d",
   "metadata": {},
   "outputs": [],
   "source": [
    "introduction to string methods :"
   ]
  },
  {
   "cell_type": "code",
   "execution_count": 15,
   "id": "ddc83e8a",
   "metadata": {},
   "outputs": [
    {
     "data": {
      "text/plain": [
       "str"
      ]
     },
     "execution_count": 15,
     "metadata": {},
     "output_type": "execute_result"
    }
   ],
   "source": [
    "type(name)"
   ]
  },
  {
   "cell_type": "code",
   "execution_count": 16,
   "id": "14e3633c",
   "metadata": {},
   "outputs": [
    {
     "data": {
      "text/plain": [
       "str"
      ]
     },
     "execution_count": 16,
     "metadata": {},
     "output_type": "execute_result"
    }
   ],
   "source": [
    "type(name2)"
   ]
  },
  {
   "cell_type": "code",
   "execution_count": 17,
   "id": "6b766d06",
   "metadata": {},
   "outputs": [
    {
     "data": {
      "text/plain": [
       "str"
      ]
     },
     "execution_count": 17,
     "metadata": {},
     "output_type": "execute_result"
    }
   ],
   "source": [
    "type(name3)"
   ]
  }
 ],
 "metadata": {
  "kernelspec": {
   "display_name": "Python 3 (ipykernel)",
   "language": "python",
   "name": "python3"
  },
  "language_info": {
   "codemirror_mode": {
    "name": "ipython",
    "version": 3
   },
   "file_extension": ".py",
   "mimetype": "text/x-python",
   "name": "python",
   "nbconvert_exporter": "python",
   "pygments_lexer": "ipython3",
   "version": "3.9.7"
  }
 },
 "nbformat": 4,
 "nbformat_minor": 5
}
