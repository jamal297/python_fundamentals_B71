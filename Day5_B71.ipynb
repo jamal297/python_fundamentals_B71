{
 "cells": [
  {
   "cell_type": "code",
   "execution_count": null,
   "id": "5fed4014",
   "metadata": {},
   "outputs": [],
   "source": [
    "continuation with list :"
   ]
  },
  {
   "cell_type": "code",
   "execution_count": null,
   "id": "416beb06",
   "metadata": {},
   "outputs": [],
   "source": []
  },
  {
   "cell_type": "code",
   "execution_count": null,
   "id": "8579197e",
   "metadata": {},
   "outputs": [],
   "source": [
    "organising the list datatype :"
   ]
  },
  {
   "cell_type": "code",
   "execution_count": null,
   "id": "f3e451ed",
   "metadata": {},
   "outputs": [],
   "source": []
  },
  {
   "cell_type": "code",
   "execution_count": 2,
   "id": "6cb9bf03",
   "metadata": {},
   "outputs": [],
   "source": [
    "cars = ['kia','hyundai','audi','suzuki','bmw','maruthi','benz']"
   ]
  },
  {
   "cell_type": "code",
   "execution_count": 3,
   "id": "f27a739f",
   "metadata": {},
   "outputs": [
    {
     "name": "stdout",
     "output_type": "stream",
     "text": [
      "['kia', 'hyundai', 'audi', 'suzuki', 'bmw', 'maruthi', 'benz']\n"
     ]
    }
   ],
   "source": [
    "print(cars)"
   ]
  },
  {
   "cell_type": "code",
   "execution_count": null,
   "id": "26c3aaff",
   "metadata": {},
   "outputs": [],
   "source": []
  },
  {
   "cell_type": "code",
   "execution_count": null,
   "id": "f96e6659",
   "metadata": {},
   "outputs": [],
   "source": [
    "# req : i want to arrange the above car brands in the alphabetical order..... A - Z order"
   ]
  },
  {
   "cell_type": "code",
   "execution_count": null,
   "id": "5422a9dd",
   "metadata": {},
   "outputs": [],
   "source": [
    "2 approaches :\n",
    "    1. temporary approach ----> we can have the original order of the list declared ====> sorted\n",
    "    2. permanent approach ----> the changes will be applied permanently ====> sort"
   ]
  },
  {
   "cell_type": "code",
   "execution_count": null,
   "id": "13252abe",
   "metadata": {},
   "outputs": [],
   "source": []
  },
  {
   "cell_type": "code",
   "execution_count": 4,
   "id": "bf417832",
   "metadata": {},
   "outputs": [
    {
     "name": "stdout",
     "output_type": "stream",
     "text": [
      "['audi', 'benz', 'bmw', 'hyundai', 'kia', 'maruthi', 'suzuki']\n"
     ]
    }
   ],
   "source": [
    "print(sorted(cars))"
   ]
  },
  {
   "cell_type": "code",
   "execution_count": null,
   "id": "fa3d9c77",
   "metadata": {},
   "outputs": [],
   "source": [
    "benz and bmw ====> b , b e and m"
   ]
  },
  {
   "cell_type": "code",
   "execution_count": 5,
   "id": "082285d5",
   "metadata": {},
   "outputs": [
    {
     "name": "stdout",
     "output_type": "stream",
     "text": [
      "['kia', 'hyundai', 'audi', 'suzuki', 'bmw', 'maruthi', 'benz']\n"
     ]
    }
   ],
   "source": [
    "print(cars)"
   ]
  },
  {
   "cell_type": "code",
   "execution_count": null,
   "id": "347734d2",
   "metadata": {},
   "outputs": [],
   "source": []
  },
  {
   "cell_type": "code",
   "execution_count": 6,
   "id": "27425ac2",
   "metadata": {},
   "outputs": [],
   "source": [
    "cars.sort()"
   ]
  },
  {
   "cell_type": "code",
   "execution_count": 7,
   "id": "352eb3c7",
   "metadata": {},
   "outputs": [
    {
     "name": "stdout",
     "output_type": "stream",
     "text": [
      "['audi', 'benz', 'bmw', 'hyundai', 'kia', 'maruthi', 'suzuki']\n"
     ]
    }
   ],
   "source": [
    "print(cars)"
   ]
  },
  {
   "cell_type": "code",
   "execution_count": null,
   "id": "1308c760",
   "metadata": {},
   "outputs": [],
   "source": [
    "interview questions : what is the difference btw sorted and sort methods in a list...."
   ]
  },
  {
   "cell_type": "code",
   "execution_count": null,
   "id": "503a5146",
   "metadata": {},
   "outputs": [],
   "source": []
  },
  {
   "cell_type": "code",
   "execution_count": null,
   "id": "9d9b5455",
   "metadata": {},
   "outputs": [],
   "source": [
    "# i want to print the entire list reverse order ----> Z - A"
   ]
  },
  {
   "cell_type": "code",
   "execution_count": 8,
   "id": "781b78f8",
   "metadata": {},
   "outputs": [],
   "source": [
    "cars.reverse()"
   ]
  },
  {
   "cell_type": "code",
   "execution_count": 9,
   "id": "430cffcb",
   "metadata": {},
   "outputs": [
    {
     "name": "stdout",
     "output_type": "stream",
     "text": [
      "['suzuki', 'maruthi', 'kia', 'hyundai', 'bmw', 'benz', 'audi']\n"
     ]
    }
   ],
   "source": [
    "print(cars)"
   ]
  },
  {
   "cell_type": "code",
   "execution_count": null,
   "id": "d07c6b44",
   "metadata": {},
   "outputs": [],
   "source": []
  },
  {
   "cell_type": "code",
   "execution_count": null,
   "id": "db047f09",
   "metadata": {},
   "outputs": [],
   "source": [
    "# i want to count the number of elements in the list....?"
   ]
  },
  {
   "cell_type": "code",
   "execution_count": 10,
   "id": "7c8340c9",
   "metadata": {},
   "outputs": [
    {
     "data": {
      "text/plain": [
       "7"
      ]
     },
     "execution_count": 10,
     "metadata": {},
     "output_type": "execute_result"
    }
   ],
   "source": [
    "len(cars)"
   ]
  },
  {
   "cell_type": "code",
   "execution_count": null,
   "id": "ff55eacb",
   "metadata": {},
   "outputs": [],
   "source": []
  },
  {
   "cell_type": "code",
   "execution_count": null,
   "id": "efa38d9a",
   "metadata": {},
   "outputs": [],
   "source": [
    "introduction to slicing :"
   ]
  },
  {
   "cell_type": "code",
   "execution_count": null,
   "id": "9024f52f",
   "metadata": {},
   "outputs": [],
   "source": [
    "# general syntax of slicing :\n",
    "\n",
    "[startvalue:stopvalue:stepcount]\n",
    "\n",
    "Note: always stop value is exclusive , to include the stop value we have to increment the index number +1."
   ]
  },
  {
   "cell_type": "code",
   "execution_count": null,
   "id": "31642c8d",
   "metadata": {},
   "outputs": [],
   "source": []
  },
  {
   "cell_type": "code",
   "execution_count": 11,
   "id": "e011b72e",
   "metadata": {},
   "outputs": [],
   "source": [
    "students = ['shashank','ariba','naveena','ramesh','kiran','vasu','hameed']"
   ]
  },
  {
   "cell_type": "code",
   "execution_count": 12,
   "id": "40257dab",
   "metadata": {},
   "outputs": [
    {
     "name": "stdout",
     "output_type": "stream",
     "text": [
      "['shashank', 'ariba', 'naveena', 'ramesh', 'kiran', 'vasu', 'hameed']\n"
     ]
    }
   ],
   "source": [
    "print(students)"
   ]
  },
  {
   "cell_type": "code",
   "execution_count": 13,
   "id": "026e8a7f",
   "metadata": {},
   "outputs": [
    {
     "data": {
      "text/plain": [
       "list"
      ]
     },
     "execution_count": 13,
     "metadata": {},
     "output_type": "execute_result"
    }
   ],
   "source": [
    "type(students)"
   ]
  },
  {
   "cell_type": "code",
   "execution_count": null,
   "id": "6ca2e428",
   "metadata": {},
   "outputs": [],
   "source": [
    "# req : i want to include shashank and ariba -----"
   ]
  },
  {
   "cell_type": "code",
   "execution_count": 14,
   "id": "9b3d4f3f",
   "metadata": {},
   "outputs": [
    {
     "name": "stdout",
     "output_type": "stream",
     "text": [
      "['shashank']\n"
     ]
    }
   ],
   "source": [
    "print(students[0:1])"
   ]
  },
  {
   "cell_type": "code",
   "execution_count": 15,
   "id": "94a8257d",
   "metadata": {},
   "outputs": [
    {
     "name": "stdout",
     "output_type": "stream",
     "text": [
      "['shashank', 'ariba']\n"
     ]
    }
   ],
   "source": [
    "print(students[0:2])"
   ]
  },
  {
   "cell_type": "code",
   "execution_count": 16,
   "id": "0d145993",
   "metadata": {},
   "outputs": [
    {
     "name": "stdout",
     "output_type": "stream",
     "text": [
      "['naveena', 'ramesh']\n"
     ]
    }
   ],
   "source": [
    "print(students[2:4])"
   ]
  },
  {
   "cell_type": "code",
   "execution_count": 17,
   "id": "c2f2d2e1",
   "metadata": {},
   "outputs": [
    {
     "name": "stdout",
     "output_type": "stream",
     "text": [
      "['shashank', 'naveena', 'kiran', 'hameed']\n"
     ]
    }
   ],
   "source": [
    "print(students[0:7:2])"
   ]
  },
  {
   "cell_type": "code",
   "execution_count": null,
   "id": "8015e92b",
   "metadata": {},
   "outputs": [],
   "source": []
  }
 ],
 "metadata": {
  "kernelspec": {
   "display_name": "Python 3 (ipykernel)",
   "language": "python",
   "name": "python3"
  },
  "language_info": {
   "codemirror_mode": {
    "name": "ipython",
    "version": 3
   },
   "file_extension": ".py",
   "mimetype": "text/x-python",
   "name": "python",
   "nbconvert_exporter": "python",
   "pygments_lexer": "ipython3",
   "version": "3.9.7"
  }
 },
 "nbformat": 4,
 "nbformat_minor": 5
}
