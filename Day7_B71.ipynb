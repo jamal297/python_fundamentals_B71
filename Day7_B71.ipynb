{
 "cells": [
  {
   "cell_type": "code",
   "execution_count": null,
   "id": "731b2ad5",
   "metadata": {},
   "outputs": [],
   "source": [
    "introduction to ditionary datatypes:"
   ]
  },
  {
   "cell_type": "code",
   "execution_count": null,
   "id": "b990a064",
   "metadata": {},
   "outputs": [],
   "source": [
    "defination: a dictionary is a combination of key value pairs.\n",
    "    classification: it is classified as a mutable datatype\n",
    "        how to define the dictionary.....? ======>{}"
   ]
  },
  {
   "cell_type": "code",
   "execution_count": null,
   "id": "2c58848d",
   "metadata": {},
   "outputs": [],
   "source": []
  },
  {
   "cell_type": "code",
   "execution_count": null,
   "id": "6c151d07",
   "metadata": {},
   "outputs": [],
   "source": [
    "#req :alien====>"
   ]
  },
  {
   "cell_type": "code",
   "execution_count": null,
   "id": "294569e1",
   "metadata": {},
   "outputs": [],
   "source": []
  },
  {
   "cell_type": "code",
   "execution_count": 1,
   "id": "f3c603f1",
   "metadata": {},
   "outputs": [],
   "source": [
    "alien = {'colour':'green','points':5}"
   ]
  },
  {
   "cell_type": "code",
   "execution_count": 2,
   "id": "5faa4369",
   "metadata": {},
   "outputs": [
    {
     "name": "stdout",
     "output_type": "stream",
     "text": [
      "{'colour': 'green', 'points': 5}\n"
     ]
    }
   ],
   "source": [
    "print(alien)"
   ]
  },
  {
   "cell_type": "code",
   "execution_count": 3,
   "id": "1288a0b2",
   "metadata": {},
   "outputs": [
    {
     "data": {
      "text/plain": [
       "dict"
      ]
     },
     "execution_count": 3,
     "metadata": {},
     "output_type": "execute_result"
    }
   ],
   "source": [
    "type(alien)"
   ]
  },
  {
   "cell_type": "code",
   "execution_count": null,
   "id": "67416305",
   "metadata": {},
   "outputs": [],
   "source": [
    "#req = how to acess the key value pairs\n",
    "\n",
    "# give the key and get the value"
   ]
  },
  {
   "cell_type": "code",
   "execution_count": null,
   "id": "77eeb6dd",
   "metadata": {},
   "outputs": [],
   "source": [
    "#req : i want to know the colour of alien"
   ]
  },
  {
   "cell_type": "code",
   "execution_count": 4,
   "id": "80201ecd",
   "metadata": {},
   "outputs": [
    {
     "name": "stdout",
     "output_type": "stream",
     "text": [
      "green\n"
     ]
    }
   ],
   "source": [
    "print(alien['colour'])"
   ]
  },
  {
   "cell_type": "code",
   "execution_count": 5,
   "id": "039ec25d",
   "metadata": {},
   "outputs": [
    {
     "name": "stdout",
     "output_type": "stream",
     "text": [
      "5\n"
     ]
    }
   ],
   "source": [
    "print(alien['points'])"
   ]
  },
  {
   "cell_type": "code",
   "execution_count": null,
   "id": "05c0fb96",
   "metadata": {},
   "outputs": [],
   "source": [
    "#req :how to add new key value pairs to the dictionary.....?"
   ]
  },
  {
   "cell_type": "code",
   "execution_count": null,
   "id": "bce3bdfb",
   "metadata": {},
   "outputs": [],
   "source": [
    "#req: start_position------>"
   ]
  },
  {
   "cell_type": "code",
   "execution_count": 6,
   "id": "9edf2810",
   "metadata": {},
   "outputs": [],
   "source": [
    "alien['start_position'] = 0"
   ]
  },
  {
   "cell_type": "code",
   "execution_count": 7,
   "id": "b3a5305c",
   "metadata": {},
   "outputs": [
    {
     "name": "stdout",
     "output_type": "stream",
     "text": [
      "{'colour': 'green', 'points': 5, 'start_position': 0}\n"
     ]
    }
   ],
   "source": [
    "print(alien)"
   ]
  },
  {
   "cell_type": "code",
   "execution_count": null,
   "id": "cf67c6ee",
   "metadata": {},
   "outputs": [],
   "source": [
    "can i give the value and get the key .....? =====>no it is not accepted,only we can give the key and get the value."
   ]
  },
  {
   "cell_type": "code",
   "execution_count": 8,
   "id": "a4efbb16",
   "metadata": {},
   "outputs": [
    {
     "ename": "KeyError",
     "evalue": "5",
     "output_type": "error",
     "traceback": [
      "\u001b[1;31m---------------------------------------------------------------------------\u001b[0m",
      "\u001b[1;31mKeyError\u001b[0m                                  Traceback (most recent call last)",
      "\u001b[1;32mC:\\Users\\JAMALA~1\\AppData\\Local\\Temp/ipykernel_18996/3842542726.py\u001b[0m in \u001b[0;36m<module>\u001b[1;34m\u001b[0m\n\u001b[1;32m----> 1\u001b[1;33m \u001b[0mprint\u001b[0m\u001b[1;33m(\u001b[0m\u001b[0malien\u001b[0m\u001b[1;33m[\u001b[0m\u001b[1;36m5\u001b[0m\u001b[1;33m]\u001b[0m\u001b[1;33m)\u001b[0m\u001b[1;33m\u001b[0m\u001b[1;33m\u001b[0m\u001b[0m\n\u001b[0m",
      "\u001b[1;31mKeyError\u001b[0m: 5"
     ]
    }
   ],
   "source": [
    "print(alien[5])"
   ]
  },
  {
   "cell_type": "code",
   "execution_count": null,
   "id": "7b2bbd84",
   "metadata": {},
   "outputs": [],
   "source": [
    "#how to modifiy the key value pairs....?"
   ]
  },
  {
   "cell_type": "code",
   "execution_count": 9,
   "id": "189cebff",
   "metadata": {},
   "outputs": [
    {
     "name": "stdout",
     "output_type": "stream",
     "text": [
      "{'colour': 'green', 'points': 5, 'start_position': 0}\n"
     ]
    }
   ],
   "source": [
    "print(alien)"
   ]
  },
  {
   "cell_type": "code",
   "execution_count": 11,
   "id": "bfcfeccf",
   "metadata": {},
   "outputs": [],
   "source": [
    "alien['points'] = 10"
   ]
  },
  {
   "cell_type": "code",
   "execution_count": 12,
   "id": "65437a49",
   "metadata": {},
   "outputs": [
    {
     "name": "stdout",
     "output_type": "stream",
     "text": [
      "{'colour': 'green', 'points': 10, 'start_position': 0}\n"
     ]
    }
   ],
   "source": [
    "print(alien)"
   ]
  },
  {
   "cell_type": "code",
   "execution_count": null,
   "id": "e6495901",
   "metadata": {},
   "outputs": [],
   "source": [
    "#req : how to delete the key value pairs"
   ]
  },
  {
   "cell_type": "code",
   "execution_count": 13,
   "id": "b5636c8e",
   "metadata": {},
   "outputs": [],
   "source": [
    "del alien['start_position']\n"
   ]
  },
  {
   "cell_type": "code",
   "execution_count": 14,
   "id": "ab581045",
   "metadata": {},
   "outputs": [
    {
     "name": "stdout",
     "output_type": "stream",
     "text": [
      "{'colour': 'green', 'points': 10}\n"
     ]
    }
   ],
   "source": [
    "print(alien)\n"
   ]
  },
  {
   "cell_type": "code",
   "execution_count": null,
   "id": "4caeb320",
   "metadata": {},
   "outputs": [],
   "source": [
    "#create a user account in Facebook.....?\n"
   ]
  },
  {
   "cell_type": "code",
   "execution_count": 15,
   "id": "c0919668",
   "metadata": {},
   "outputs": [],
   "source": [
    "user_account = {'username':'codetrainingacademy','firstname':'code','lastname':'training','dob':'01-01-2020','pwd':'54321'}\n"
   ]
  },
  {
   "cell_type": "code",
   "execution_count": 16,
   "id": "c55be72a",
   "metadata": {},
   "outputs": [
    {
     "name": "stdout",
     "output_type": "stream",
     "text": [
      "{'username': 'codetrainingacademy', 'firstname': 'code', 'lastname': 'training', 'dob': '01-01-2020', 'pwd': '54321'}\n"
     ]
    }
   ],
   "source": [
    "print(user_account)\n"
   ]
  },
  {
   "cell_type": "code",
   "execution_count": 17,
   "id": "da68c8c2",
   "metadata": {},
   "outputs": [
    {
     "name": "stdout",
     "output_type": "stream",
     "text": [
      "code\n"
     ]
    }
   ],
   "source": [
    "print(user_account ['firstname'])\n"
   ]
  },
  {
   "cell_type": "code",
   "execution_count": null,
   "id": "b5c9ef9a",
   "metadata": {},
   "outputs": [],
   "source": [
    "#implementation of a for loop on the dictionary \n"
   ]
  },
  {
   "cell_type": "code",
   "execution_count": null,
   "id": "ae027678",
   "metadata": {},
   "outputs": [],
   "source": [
    "key,value\n"
   ]
  },
  {
   "cell_type": "code",
   "execution_count": null,
   "id": "67298fce",
   "metadata": {},
   "outputs": [],
   "source": [
    "#general syntax of a for loop\n"
   ]
  },
  {
   "cell_type": "code",
   "execution_count": null,
   "id": "ceee5e62",
   "metadata": {},
   "outputs": [],
   "source": [
    "for tempvar1, tempvar2 in manivar.items():\n",
    "    print(tempvar1)\n",
    "    print(tempver2)"
   ]
  },
  {
   "cell_type": "code",
   "execution_count": null,
   "id": "f85f0a30",
   "metadata": {},
   "outputs": [],
   "source": []
  },
  {
   "cell_type": "code",
   "execution_count": 22,
   "id": "819d6a8a",
   "metadata": {},
   "outputs": [
    {
     "name": "stdout",
     "output_type": "stream",
     "text": [
      "username\n",
      "codetrainingacademy\n",
      "firstname\n",
      "code\n",
      "lastname\n",
      "training\n",
      "dob\n",
      "01-01-2020\n",
      "pwd\n",
      "54321\n"
     ]
    }
   ],
   "source": [
    "for x,y in user_account.items():\n",
    "    print(x)\n",
    "    print(y)"
   ]
  },
  {
   "cell_type": "code",
   "execution_count": 20,
   "id": "71ca9cb9",
   "metadata": {},
   "outputs": [
    {
     "name": "stdout",
     "output_type": "stream",
     "text": [
      "key:username\n",
      "value:codetrainingacademy\n",
      "\n",
      "key:firstname\n",
      "value:code\n",
      "\n",
      "key:lastname\n",
      "value:training\n",
      "\n",
      "key:dob\n",
      "value:01-01-2020\n",
      "\n",
      "key:pwd\n",
      "value:54321\n",
      "\n"
     ]
    }
   ],
   "source": [
    "for x,y in user_account.items():\n",
    "    print(f\"key:{x}\")\n",
    "    print(f\"value:{y}\\n\")"
   ]
  },
  {
   "cell_type": "code",
   "execution_count": null,
   "id": "e2510b9a",
   "metadata": {},
   "outputs": [],
   "source": [
    "# i want to get only the keys....?"
   ]
  },
  {
   "cell_type": "code",
   "execution_count": 21,
   "id": "e0910f4b",
   "metadata": {},
   "outputs": [
    {
     "name": "stdout",
     "output_type": "stream",
     "text": [
      "values:codetrainingacademy\n",
      "values:code\n",
      "values:training\n",
      "values:01-01-2020\n",
      "values:54321\n"
     ]
    }
   ],
   "source": [
    "for b in user_account.values():\n",
    "    print(f\"values:{b}\")"
   ]
  },
  {
   "cell_type": "code",
   "execution_count": null,
   "id": "075d7347",
   "metadata": {},
   "outputs": [],
   "source": []
  }
 ],
 "metadata": {
  "kernelspec": {
   "display_name": "Python 3 (ipykernel)",
   "language": "python",
   "name": "python3"
  },
  "language_info": {
   "codemirror_mode": {
    "name": "ipython",
    "version": 3
   },
   "file_extension": ".py",
   "mimetype": "text/x-python",
   "name": "python",
   "nbconvert_exporter": "python",
   "pygments_lexer": "ipython3",
   "version": "3.9.7"
  }
 },
 "nbformat": 4,
 "nbformat_minor": 5
}
